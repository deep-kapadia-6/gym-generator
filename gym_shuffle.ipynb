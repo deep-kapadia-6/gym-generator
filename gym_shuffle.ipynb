{
 "cells": [
  {
   "cell_type": "code",
   "execution_count": 1,
   "metadata": {},
   "outputs": [],
   "source": [
    "import numpy as np\n",
    "import sys\n",
    "from PyQt5 import QtWidgets\n",
    "from PyQt5.QtGui import QIcon"
   ]
  },
  {
   "cell_type": "code",
   "execution_count": 2,
   "metadata": {},
   "outputs": [],
   "source": [
    "def week():\n",
    "      # Define exercise lists\n",
    "      chest1 = ['Barbell bench press', 'Incline bench press']\n",
    "      chest2 = ['Flat dumbbell press', 'Incline dumbbell press', 'Cable flys', 'Pushups']\n",
    "      back1 = ['Lat pulldown', 'Weighted pullups']\n",
    "      back2 = ['Seated row', 'Bent over row', 'Lat pushdowns', 'Face pulls']\n",
    "      shoulder1 = ['Barbell shoulder press']\n",
    "      shoulder2 = ['Dumbbell shoulder press', 'Lateral raises', 'Single arm leaning in raise', 'Cable crossover']\n",
    "      quads1 = ['Back squat', 'Front squat']\n",
    "      quads2 = ['Leg press', 'Split squats', 'Lunges']\n",
    "      glutes = ['Hip thrusts', 'Deadlift', 'Glute ham raise', 'Romanian deadlift', 'Sled push']\n",
    "      quads_rf = ['Leg extensions']\n",
    "      hamstrings = ['Seated/prone leg curl']\n",
    "      calves = ['Standing calf raise', 'Seated calf raise', 'Leg press calf raise']\n",
    "      # Randomly select exercises for Upper1\n",
    "      Upper1 = []\n",
    "    \n",
    "      c1u1 = np.random.choice(chest1)\n",
    "      Upper1.append(c1u1)\n",
    "      chest1.remove(c1u1)\n",
    "      b1u1 = np.random.choice(back1)\n",
    "      Upper1.append(b1u1)\n",
    "      back1.remove(b1u1)\n",
    "      s1u1 = np.random.choice(shoulder1)\n",
    "      Upper1.append(s1u1)\n",
    "      c2u1 = np.random.choice(chest2)\n",
    "      Upper1.append(c2u1)\n",
    "      chest2.remove(c2u1)\n",
    "      b2u1 = np.random.choice(back2)\n",
    "      Upper1.append(b2u1)\n",
    "      back2.remove(b2u1)\n",
    "      s2u1 = np.random.choice(shoulder2)\n",
    "      Upper1.append(s2u1)\n",
    "      shoulder2.remove(s2u1)\n",
    "    \n",
    "      # Randomly select exercises for Legs1\n",
    "      Legs1 = []\n",
    "      for exercise_list in [calves, quads1, quads2, glutes, quads_rf, hamstrings]:\n",
    "          exercise = np.random.choice(exercise_list)\n",
    "          Legs1.append(exercise)\n",
    "          \n",
    "      # Randomly select exercises for Upper2 (Not same as Upper1)\n",
    "      Upper2 = []\n",
    "      c1u2 = np.random.choice(chest1)\n",
    "      Upper2.append(c1u2)\n",
    "      b1u2 = np.random.choice(back1)\n",
    "      Upper2.append(b1u2)\n",
    "      s1u2 = np.random.choice(shoulder1)\n",
    "      Upper2.append(s1u2)\n",
    "      c2u2 = np.random.choice(chest2)\n",
    "      Upper2.append(c2u2)\n",
    "      b2u2 = np.random.choice(back2)\n",
    "      Upper2.append(b2u2)\n",
    "      s2u2 = np.random.choice(shoulder2)\n",
    "      Upper2.append(s2u2)\n",
    "\n",
    "      print(\"Upper1:\", Upper1)\n",
    "      print(\"Legs1:\", Legs1)\n",
    "      print(\"Upper2:\", Upper2)"
   ]
  },
  {
   "cell_type": "code",
   "execution_count": null,
   "metadata": {},
   "outputs": [],
   "source": [
    "def clicked()"
   ]
  },
  {
   "cell_type": "code",
   "execution_count": 4,
   "metadata": {},
   "outputs": [
    {
     "name": "stdout",
     "output_type": "stream",
     "text": [
      "Upper1: ['Barbell bench press', 'Lat pulldown', 'Barbell shoulder press', 'Incline dumbbell press', 'Bent over row', 'Lateral raises']\n",
      "Legs1: ['Seated calf raise', 'Back squat', 'Leg press', 'Sled push', 'Leg extensions', 'Seated/prone leg curl']\n",
      "Upper2: ['Incline bench press', 'Weighted pullups', 'Barbell shoulder press', 'Flat dumbbell press', 'Face pulls', 'Single arm leaning in raise']\n"
     ]
    },
    {
     "ename": "SystemExit",
     "evalue": "0",
     "output_type": "error",
     "traceback": [
      "An exception has occurred, use %tb to see the full traceback.\n",
      "\u001b[1;31mSystemExit\u001b[0m\u001b[1;31m:\u001b[0m 0\n"
     ]
    },
    {
     "name": "stderr",
     "output_type": "stream",
     "text": [
      "C:\\Users\\deepk\\AppData\\Roaming\\Python\\Python39\\site-packages\\IPython\\core\\interactiveshell.py:3558: UserWarning: To exit: use 'exit', 'quit', or Ctrl-D.\n",
      "  warn(\"To exit: use 'exit', 'quit', or Ctrl-D.\", stacklevel=1)\n"
     ]
    }
   ],
   "source": [
    "def window():\n",
    "    app = QtWidgets.QApplication(sys.argv)\n",
    "    win = QtWidgets.QMainWindow()\n",
    "    win.setGeometry(720, 300, 500, 500)\n",
    "    win.setWindowTitle(\"Gym\")\n",
    "    win.setWindowIcon(QIcon(\"dumbbell.jpeg\"))\n",
    "\n",
    "    # Create a button\n",
    "\n",
    "    btn_save = QtWidgets.QPushButton(\"Generate\", win)\n",
    "    btn_save.move(200, 200)\n",
    "    btn_save.clicked.connect(week)\n",
    "        \n",
    "    \n",
    "    win.show()\n",
    "    sys.exit(app.exec_())\n",
    "\n",
    "window()"
   ]
  },
  {
   "cell_type": "code",
   "execution_count": null,
   "metadata": {},
   "outputs": [],
   "source": []
  }
 ],
 "metadata": {
  "kernelspec": {
   "display_name": "Python 3",
   "language": "python",
   "name": "python3"
  },
  "language_info": {
   "codemirror_mode": {
    "name": "ipython",
    "version": 3
   },
   "file_extension": ".py",
   "mimetype": "text/x-python",
   "name": "python",
   "nbconvert_exporter": "python",
   "pygments_lexer": "ipython3",
   "version": "3.9.13"
  }
 },
 "nbformat": 4,
 "nbformat_minor": 2
}
